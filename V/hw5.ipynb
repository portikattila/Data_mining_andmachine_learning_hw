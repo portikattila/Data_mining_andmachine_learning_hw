{
 "cells": [
  {
   "cell_type": "markdown",
   "metadata": {
    "colab_type": "text",
    "id": "view-in-github"
   },
   "source": [
    "<a href=\"https://colab.research.google.com/gist/qbeer/c7630c11339b659843e32e39eb732e42/hw5_raw.ipynb\" target=\"_parent\"><img src=\"https://colab.research.google.com/assets/colab-badge.svg\" alt=\"Open In Colab\"/></a>"
   ]
  },
  {
   "cell_type": "markdown",
   "metadata": {
    "id": "b17I_WoP0eSE"
   },
   "source": [
    "## Logistic regression\n",
    "\n",
    "### 1. Download data from https://science.sciencemag.org/content/359/6378/926 (supplementary materials).\n",
    "\n",
    "* read the abstract of the article to get familiar with data origin\n",
    "* open the data in excel and get familiar with its content\n",
    "* load the protein level data (you need to figure out which one is that) as a pandas dataframe\n",
    "* handle missing values and convert features to numeric values when it is needed\n",
    "* get rid of the unnecessary (which does not encode protein levels or the tumor type) columns and the CancerSEEK results\n",
    "\n",
    "### 2. Predict if a sample is cancerous or not\n",
    "\n",
    "* your need to build a classifier that predicts the probability of a sample coming from a cancerous (tumor type is normal or not) person based on the measured protein levels\n",
    "* train a logistic regression (sklearn API) on every second sample (not first 50% of the data (!), use every second line)\n",
    "* generate prediction for the samples that were not used during the training\n",
    "\n",
    "###  3. Comparision to CancerSEEK\n",
    "* plot the ROC curve and calculate the confusion matrix for the predictions\n",
    "* do the same for the CancerSEEK predictions\n",
    "* compare your model's performance to CancerSEEK performance\n",
    "\n",
    "### 4. Hepatocellular carcinoma\n",
    "\n",
    "* fit a logistic regression (using statsmodels API this time) to predict if a sample has Hepatocellular carcinoma (liver cancer) or not. You need to keep only the liver and the normal samples for this exercise! For fitting use only the first 25 features and all the rows (which are liver or normal)\n",
    "* select the 5 best predictor based on P values.\n",
    "* Write down the most important features (based on P value) and compare them to the tumor markers that you find on wikipeida https://en.wikipedia.org/wiki/Hepatocellular_carcinoma or other sources!\n",
    "\n",
    "### 5. Multiclass classification\n",
    "\n",
    "* Again, using every second datapoint train a logistic regression (sklearn API) to predict the tumor type. It is a multiclass classification problem.\n",
    "* Generate prediction for the rest of the dataset and show the confution matrix for the predictions!\n",
    "* Plot the ROC curves for the different cancer types on the same plot!\n",
    "* Intepret your results. Which cancer type can be predicted the most reliably?\n",
    "\n",
    "### Hints:\n",
    "\n",
    "* On total you can get 10 points for fully completing all tasks.\n",
    "* Decorate your notebook with, questions, explanation etc, make it self contained and understandable!\n",
    "* Comments you code when necessary\n",
    "* Write functions for repetitive tasks!\n",
    "* Use the pandas package for data loading and handling\n",
    "* Use matplotlib and seaborn for plotting or bokeh and plotly for interactive investigation\n",
    "* Use the scikit learn package for almost everything\n",
    "* Use for loops only if it is really necessary!\n",
    "* Code sharing is not allowed between student! Sharing code will result in zero points.\n",
    "* If you use code found on web, it is OK, but, make its source clear!"
   ]
  },
  {
   "cell_type": "code",
   "execution_count": 1,
   "metadata": {},
   "outputs": [],
   "source": [
    "import numpy as np\n",
    "import matplotlib.pyplot as plt\n",
    "import pandas as pd\n",
    "from sklearn.linear_model import LogisticRegression\n",
    "from sklearn.metrics import confusion_matrix, roc_auc_score, roc_curve\n",
    "import statsmodels.discrete.discrete_model as sm\n",
    "\n",
    "import warnings\n",
    "warnings.filterwarnings(\"ignore\")"
   ]
  },
  {
   "cell_type": "markdown",
   "metadata": {},
   "source": [
    "---------------\n",
    "### 1. Download data from https://science.sciencemag.org/content/359/6378/926 (supplementary materials).\n",
    "\n",
    "* read the abstract of the article to get familiar with data origin\n",
    "* open the data in excel and get familiar with its content\n",
    "* load the protein level data (you need to figure out which one is that) as a pandas dataframe\n",
    "* handle missing values and convert features to numeric values when it is needed\n",
    "* get rid of the unnecessary (which does not encode protein levels or the tumor type) columns and the CancerSEEK results\n",
    "---------------"
   ]
  },
  {
   "cell_type": "markdown",
   "metadata": {},
   "source": [
    "Abstract\n",
    "Earlier detection is key to reducing cancer deaths. Here, we describe a blood test that can detect eight common cancer types through assessment of the levels of circulating proteins and mutations in cell-free DNA. We applied this test, called CancerSEEK, to 1005 patients with nonmetastatic, clinically detected cancers of the ovary, liver, stomach, pancreas, esophagus, colorectum, lung, or breast. CancerSEEK tests were positive in a median of 70% of the eight cancer types. The sensitivities ranged from 69 to 98% for the detection of five cancer types (ovary, liver, stomach, pancreas, and esophagus) for which there are no screening tests available for average-risk individuals. The specificity of CancerSEEK was greater than 99%: only 7 of 812 healthy controls scored positive. In addition, CancerSEEK localized the cancer to a small number of anatomic sites in a median of 83% of the patients."
   ]
  },
  {
   "cell_type": "code",
   "execution_count": 2,
   "metadata": {},
   "outputs": [
    {
     "name": "stdout",
     "output_type": "stream",
     "text": [
      "All the features are in numeric format.\n"
     ]
    },
    {
     "data": {
      "text/html": [
       "<div>\n",
       "<style scoped>\n",
       "    .dataframe tbody tr th:only-of-type {\n",
       "        vertical-align: middle;\n",
       "    }\n",
       "\n",
       "    .dataframe tbody tr th {\n",
       "        vertical-align: top;\n",
       "    }\n",
       "\n",
       "    .dataframe thead th {\n",
       "        text-align: right;\n",
       "    }\n",
       "</style>\n",
       "<table border=\"1\" class=\"dataframe\">\n",
       "  <thead>\n",
       "    <tr style=\"text-align: right;\">\n",
       "      <th></th>\n",
       "      <th>Tumor type</th>\n",
       "      <th>AFP (pg/ml)</th>\n",
       "      <th>Angiopoietin-2 (pg/ml)</th>\n",
       "      <th>AXL (pg/ml)</th>\n",
       "      <th>CA-125 (U/ml)</th>\n",
       "      <th>CA 15-3 (U/ml)</th>\n",
       "      <th>CA19-9 (U/ml)</th>\n",
       "      <th>CD44 (ng/ml)</th>\n",
       "      <th>CEA (pg/ml)</th>\n",
       "      <th>CYFRA 21-1 (pg/ml)</th>\n",
       "      <th>...</th>\n",
       "      <th>sFas (pg/ml)</th>\n",
       "      <th>SHBG (nM)</th>\n",
       "      <th>sHER2/sEGFR2/sErbB2 (pg/ml)</th>\n",
       "      <th>sPECAM-1 (pg/ml)</th>\n",
       "      <th>TGFa (pg/ml)</th>\n",
       "      <th>Thrombospondin-2 (pg/ml)</th>\n",
       "      <th>TIMP-1 (pg/ml)</th>\n",
       "      <th>TIMP-2 (pg/ml)</th>\n",
       "      <th>CancerSEEK Logistic Regression Score</th>\n",
       "      <th>CancerSEEK Test Result</th>\n",
       "    </tr>\n",
       "  </thead>\n",
       "  <tbody>\n",
       "    <tr>\n",
       "      <th>0</th>\n",
       "      <td>Colorectum</td>\n",
       "      <td>1583.450</td>\n",
       "      <td>5598.50</td>\n",
       "      <td>3621.04</td>\n",
       "      <td>5.090</td>\n",
       "      <td>19.08</td>\n",
       "      <td>16.452</td>\n",
       "      <td>9.81</td>\n",
       "      <td>540.07</td>\n",
       "      <td>1938.654</td>\n",
       "      <td>...</td>\n",
       "      <td>204.792</td>\n",
       "      <td>55.06</td>\n",
       "      <td>6832.07</td>\n",
       "      <td>9368.53</td>\n",
       "      <td>16.086</td>\n",
       "      <td>21863.74</td>\n",
       "      <td>56428.71</td>\n",
       "      <td>39498.82</td>\n",
       "      <td>0.938342</td>\n",
       "      <td>Positive</td>\n",
       "    </tr>\n",
       "    <tr>\n",
       "      <th>1</th>\n",
       "      <td>Colorectum</td>\n",
       "      <td>715.308</td>\n",
       "      <td>20936.35</td>\n",
       "      <td>2772.96</td>\n",
       "      <td>7.270</td>\n",
       "      <td>10.04</td>\n",
       "      <td>40.910</td>\n",
       "      <td>27.57</td>\n",
       "      <td>5902.43</td>\n",
       "      <td>1938.654</td>\n",
       "      <td>...</td>\n",
       "      <td>204.792</td>\n",
       "      <td>72.92</td>\n",
       "      <td>5549.47</td>\n",
       "      <td>6224.55</td>\n",
       "      <td>16.086</td>\n",
       "      <td>29669.66</td>\n",
       "      <td>73940.49</td>\n",
       "      <td>41277.09</td>\n",
       "      <td>0.925363</td>\n",
       "      <td>Positive</td>\n",
       "    </tr>\n",
       "    <tr>\n",
       "      <th>2</th>\n",
       "      <td>Colorectum</td>\n",
       "      <td>4365.530</td>\n",
       "      <td>2350.93</td>\n",
       "      <td>4120.77</td>\n",
       "      <td>4.854</td>\n",
       "      <td>16.96</td>\n",
       "      <td>16.452</td>\n",
       "      <td>14.59</td>\n",
       "      <td>973.75</td>\n",
       "      <td>1976.940</td>\n",
       "      <td>...</td>\n",
       "      <td>204.792</td>\n",
       "      <td>173.78</td>\n",
       "      <td>3698.16</td>\n",
       "      <td>4046.48</td>\n",
       "      <td>179.030</td>\n",
       "      <td>6020.47</td>\n",
       "      <td>22797.28</td>\n",
       "      <td>28440.60</td>\n",
       "      <td>0.852367</td>\n",
       "      <td>Negative</td>\n",
       "    </tr>\n",
       "    <tr>\n",
       "      <th>3</th>\n",
       "      <td>Colorectum</td>\n",
       "      <td>715.308</td>\n",
       "      <td>1604.34</td>\n",
       "      <td>2029.96</td>\n",
       "      <td>5.390</td>\n",
       "      <td>8.31</td>\n",
       "      <td>16.452</td>\n",
       "      <td>7.78</td>\n",
       "      <td>2027.53</td>\n",
       "      <td>1938.654</td>\n",
       "      <td>...</td>\n",
       "      <td>204.792</td>\n",
       "      <td>29.47</td>\n",
       "      <td>5856.00</td>\n",
       "      <td>6121.93</td>\n",
       "      <td>16.086</td>\n",
       "      <td>4331.02</td>\n",
       "      <td>20441.19</td>\n",
       "      <td>25896.73</td>\n",
       "      <td>0.617639</td>\n",
       "      <td>Negative</td>\n",
       "    </tr>\n",
       "  </tbody>\n",
       "</table>\n",
       "<p>4 rows × 42 columns</p>\n",
       "</div>"
      ],
      "text/plain": [
       "   Tumor type  AFP (pg/ml)  Angiopoietin-2 (pg/ml)  AXL (pg/ml)  \\\n",
       "0  Colorectum     1583.450                 5598.50      3621.04   \n",
       "1  Colorectum      715.308                20936.35      2772.96   \n",
       "2  Colorectum     4365.530                 2350.93      4120.77   \n",
       "3  Colorectum      715.308                 1604.34      2029.96   \n",
       "\n",
       "   CA-125 (U/ml)  CA 15-3 (U/ml)  CA19-9 (U/ml)  CD44 (ng/ml)  CEA (pg/ml)  \\\n",
       "0          5.090           19.08         16.452          9.81       540.07   \n",
       "1          7.270           10.04         40.910         27.57      5902.43   \n",
       "2          4.854           16.96         16.452         14.59       973.75   \n",
       "3          5.390            8.31         16.452          7.78      2027.53   \n",
       "\n",
       "   CYFRA 21-1 (pg/ml)  ...  sFas (pg/ml)  SHBG (nM)  \\\n",
       "0            1938.654  ...       204.792      55.06   \n",
       "1            1938.654  ...       204.792      72.92   \n",
       "2            1976.940  ...       204.792     173.78   \n",
       "3            1938.654  ...       204.792      29.47   \n",
       "\n",
       "   sHER2/sEGFR2/sErbB2 (pg/ml)  sPECAM-1 (pg/ml)  TGFa (pg/ml)  \\\n",
       "0                      6832.07           9368.53        16.086   \n",
       "1                      5549.47           6224.55        16.086   \n",
       "2                      3698.16           4046.48       179.030   \n",
       "3                      5856.00           6121.93        16.086   \n",
       "\n",
       "   Thrombospondin-2 (pg/ml)  TIMP-1 (pg/ml)  TIMP-2 (pg/ml)  \\\n",
       "0                  21863.74        56428.71        39498.82   \n",
       "1                  29669.66        73940.49        41277.09   \n",
       "2                   6020.47        22797.28        28440.60   \n",
       "3                   4331.02        20441.19        25896.73   \n",
       "\n",
       "   CancerSEEK Logistic Regression Score  CancerSEEK Test Result  \n",
       "0                              0.938342                Positive  \n",
       "1                              0.925363                Positive  \n",
       "2                              0.852367                Negative  \n",
       "3                              0.617639                Negative  \n",
       "\n",
       "[4 rows x 42 columns]"
      ]
     },
     "metadata": {},
     "output_type": "display_data"
    },
    {
     "data": {
      "text/html": [
       "<div>\n",
       "<style scoped>\n",
       "    .dataframe tbody tr th:only-of-type {\n",
       "        vertical-align: middle;\n",
       "    }\n",
       "\n",
       "    .dataframe tbody tr th {\n",
       "        vertical-align: top;\n",
       "    }\n",
       "\n",
       "    .dataframe thead th {\n",
       "        text-align: right;\n",
       "    }\n",
       "</style>\n",
       "<table border=\"1\" class=\"dataframe\">\n",
       "  <thead>\n",
       "    <tr style=\"text-align: right;\">\n",
       "      <th></th>\n",
       "      <th>Tumor type</th>\n",
       "      <th>AFP (pg/ml)</th>\n",
       "      <th>Angiopoietin-2 (pg/ml)</th>\n",
       "      <th>AXL (pg/ml)</th>\n",
       "      <th>CA-125 (U/ml)</th>\n",
       "      <th>CA 15-3 (U/ml)</th>\n",
       "      <th>CA19-9 (U/ml)</th>\n",
       "      <th>CD44 (ng/ml)</th>\n",
       "      <th>CEA (pg/ml)</th>\n",
       "      <th>CYFRA 21-1 (pg/ml)</th>\n",
       "      <th>...</th>\n",
       "      <th>sFas (pg/ml)</th>\n",
       "      <th>SHBG (nM)</th>\n",
       "      <th>sHER2/sEGFR2/sErbB2 (pg/ml)</th>\n",
       "      <th>sPECAM-1 (pg/ml)</th>\n",
       "      <th>TGFa (pg/ml)</th>\n",
       "      <th>Thrombospondin-2 (pg/ml)</th>\n",
       "      <th>TIMP-1 (pg/ml)</th>\n",
       "      <th>TIMP-2 (pg/ml)</th>\n",
       "      <th>CancerSEEK Logistic Regression Score</th>\n",
       "      <th>CancerSEEK Test Result</th>\n",
       "    </tr>\n",
       "  </thead>\n",
       "  <tbody>\n",
       "    <tr>\n",
       "      <th>1813</th>\n",
       "      <td>Ovary</td>\n",
       "      <td>1337.330</td>\n",
       "      <td>1607.90</td>\n",
       "      <td>852.37</td>\n",
       "      <td>5.58</td>\n",
       "      <td>9.80</td>\n",
       "      <td>16.44</td>\n",
       "      <td>12.32</td>\n",
       "      <td>1179.51</td>\n",
       "      <td>1970.916</td>\n",
       "      <td>...</td>\n",
       "      <td>207.24</td>\n",
       "      <td>147.17</td>\n",
       "      <td>7951.03</td>\n",
       "      <td>12966.19</td>\n",
       "      <td>16.89</td>\n",
       "      <td>599.40</td>\n",
       "      <td>123443.76</td>\n",
       "      <td>54066.98</td>\n",
       "      <td>0.999995</td>\n",
       "      <td>Positive</td>\n",
       "    </tr>\n",
       "    <tr>\n",
       "      <th>1814</th>\n",
       "      <td>Ovary</td>\n",
       "      <td>879.498</td>\n",
       "      <td>1592.84</td>\n",
       "      <td>1044.45</td>\n",
       "      <td>30.48</td>\n",
       "      <td>8.48</td>\n",
       "      <td>16.44</td>\n",
       "      <td>8.26</td>\n",
       "      <td>443.01</td>\n",
       "      <td>3589.730</td>\n",
       "      <td>...</td>\n",
       "      <td>207.24</td>\n",
       "      <td>104.63</td>\n",
       "      <td>2396.36</td>\n",
       "      <td>1901.41</td>\n",
       "      <td>16.89</td>\n",
       "      <td>599.40</td>\n",
       "      <td>104070.89</td>\n",
       "      <td>39844.02</td>\n",
       "      <td>1.000000</td>\n",
       "      <td>Positive</td>\n",
       "    </tr>\n",
       "    <tr>\n",
       "      <th>1815</th>\n",
       "      <td>Ovary</td>\n",
       "      <td>879.498</td>\n",
       "      <td>5267.95</td>\n",
       "      <td>1445.69</td>\n",
       "      <td>1469.45</td>\n",
       "      <td>23.74</td>\n",
       "      <td>62.26</td>\n",
       "      <td>16.53</td>\n",
       "      <td>443.01</td>\n",
       "      <td>50659.050</td>\n",
       "      <td>...</td>\n",
       "      <td>207.24</td>\n",
       "      <td>73.55</td>\n",
       "      <td>3079.81</td>\n",
       "      <td>5312.90</td>\n",
       "      <td>16.89</td>\n",
       "      <td>6864.33</td>\n",
       "      <td>110579.24</td>\n",
       "      <td>42921.13</td>\n",
       "      <td>1.000000</td>\n",
       "      <td>Positive</td>\n",
       "    </tr>\n",
       "    <tr>\n",
       "      <th>1816</th>\n",
       "      <td>Ovary</td>\n",
       "      <td>879.498</td>\n",
       "      <td>3546.43</td>\n",
       "      <td>1493.32</td>\n",
       "      <td>1428.31</td>\n",
       "      <td>836.85</td>\n",
       "      <td>37.90</td>\n",
       "      <td>13.78</td>\n",
       "      <td>443.01</td>\n",
       "      <td>3060.110</td>\n",
       "      <td>...</td>\n",
       "      <td>207.24</td>\n",
       "      <td>72.22</td>\n",
       "      <td>3967.55</td>\n",
       "      <td>4045.18</td>\n",
       "      <td>16.89</td>\n",
       "      <td>12877.10</td>\n",
       "      <td>88464.04</td>\n",
       "      <td>47219.24</td>\n",
       "      <td>1.000000</td>\n",
       "      <td>Positive</td>\n",
       "    </tr>\n",
       "  </tbody>\n",
       "</table>\n",
       "<p>4 rows × 42 columns</p>\n",
       "</div>"
      ],
      "text/plain": [
       "     Tumor type  AFP (pg/ml)  Angiopoietin-2 (pg/ml)  AXL (pg/ml)  \\\n",
       "1813      Ovary     1337.330                 1607.90       852.37   \n",
       "1814      Ovary      879.498                 1592.84      1044.45   \n",
       "1815      Ovary      879.498                 5267.95      1445.69   \n",
       "1816      Ovary      879.498                 3546.43      1493.32   \n",
       "\n",
       "      CA-125 (U/ml)  CA 15-3 (U/ml)  CA19-9 (U/ml)  CD44 (ng/ml)  CEA (pg/ml)  \\\n",
       "1813           5.58            9.80          16.44         12.32      1179.51   \n",
       "1814          30.48            8.48          16.44          8.26       443.01   \n",
       "1815        1469.45           23.74          62.26         16.53       443.01   \n",
       "1816        1428.31          836.85          37.90         13.78       443.01   \n",
       "\n",
       "      CYFRA 21-1 (pg/ml)  ...  sFas (pg/ml)  SHBG (nM)  \\\n",
       "1813            1970.916  ...        207.24     147.17   \n",
       "1814            3589.730  ...        207.24     104.63   \n",
       "1815           50659.050  ...        207.24      73.55   \n",
       "1816            3060.110  ...        207.24      72.22   \n",
       "\n",
       "      sHER2/sEGFR2/sErbB2 (pg/ml)  sPECAM-1 (pg/ml)  TGFa (pg/ml)  \\\n",
       "1813                      7951.03          12966.19         16.89   \n",
       "1814                      2396.36           1901.41         16.89   \n",
       "1815                      3079.81           5312.90         16.89   \n",
       "1816                      3967.55           4045.18         16.89   \n",
       "\n",
       "      Thrombospondin-2 (pg/ml)  TIMP-1 (pg/ml)  TIMP-2 (pg/ml)  \\\n",
       "1813                    599.40       123443.76        54066.98   \n",
       "1814                    599.40       104070.89        39844.02   \n",
       "1815                   6864.33       110579.24        42921.13   \n",
       "1816                  12877.10        88464.04        47219.24   \n",
       "\n",
       "      CancerSEEK Logistic Regression Score  CancerSEEK Test Result  \n",
       "1813                              0.999995                Positive  \n",
       "1814                              1.000000                Positive  \n",
       "1815                              1.000000                Positive  \n",
       "1816                              1.000000                Positive  \n",
       "\n",
       "[4 rows x 42 columns]"
      ]
     },
     "metadata": {},
     "output_type": "display_data"
    }
   ],
   "source": [
    "df=pd.read_excel('aar3247_Cohen_SM_Tables-S1-S11.xlsx', \n",
    "                 sheet_name='Table S6', \n",
    "                 skiprows=2, \n",
    "                 skipfooter=4)\n",
    "\n",
    "df=df.drop_duplicates()\n",
    "\n",
    "df.pop('Sample ID #')\n",
    "df.pop('AJCC Stage')\n",
    "patients = df.pop('Patient ID #')\n",
    "df.dropna(axis=0, inplace=True)\n",
    "\n",
    "\n",
    "for i in df.columns.values[1:-2]:\n",
    "    df[i] = df[i].astype(str).str.replace('*', '').astype(float)\n",
    "\n",
    "if np.array([pd.api.types.is_numeric_dtype(i) for i in df.dtypes.values[1:-2]]).all():\n",
    "    print('All the features are in numeric format.')\n",
    "\n",
    "\n",
    "display(df.head(4))\n",
    "display(df.tail(4))\n",
    "\n"
   ]
  },
  {
   "cell_type": "code",
   "execution_count": 3,
   "metadata": {},
   "outputs": [],
   "source": [
    "y=df.pop('Tumor type')\n",
    "SEEK=df.pop('CancerSEEK Logistic Regression Score')\n",
    "SEEK_class=df.pop('CancerSEEK Test Result')"
   ]
  },
  {
   "cell_type": "markdown",
   "metadata": {},
   "source": [
    "----------------\n",
    "### 2. Predict if a sample is cancerous or not\n",
    "\n",
    "* your need to build a classifier that predicts the probability of a sample coming from a cancerous (tumor type is normal or not) person based on the measured protein levels\n",
    "* train a logistic regression (sklearn API) on every second sample (not first 50% of the data (!), use every second line)\n",
    "* generate prediction for the samples that were not used during the training\n",
    "\n",
    "----------------"
   ]
  },
  {
   "cell_type": "code",
   "execution_count": 4,
   "metadata": {},
   "outputs": [
    {
     "name": "stdout",
     "output_type": "stream",
     "text": [
      "0.5568496949528563\n"
     ]
    }
   ],
   "source": [
    "y_bin=np.ones_like(y)\n",
    "y_bin[y=='Normal']=0\n",
    "y_bin=list(y_bin)\n",
    "print(np.mean(y_bin))\n",
    "\n",
    "df=(df-df.mean())/df.std()"
   ]
  },
  {
   "cell_type": "code",
   "execution_count": 5,
   "metadata": {},
   "outputs": [],
   "source": [
    "logreg=LogisticRegression()\n",
    "logreg.fit(df.values[::2], y_bin[::2])\n",
    "pred=logreg.predict_proba(df.values[1::2])"
   ]
  },
  {
   "cell_type": "code",
   "execution_count": 6,
   "metadata": {},
   "outputs": [
    {
     "data": {
      "image/png": "[encoded data removed]",
      "text/plain": [
       "<Figure size 864x432 with 1 Axes>"
      ]
     },
     "metadata": {
      "needs_background": "light"
     },
     "output_type": "display_data"
    }
   ],
   "source": [
    "fig,ax=plt.subplots(1,1,figsize=(12,6))\n",
    "ax.bar(np.arange(len(pred)),-pred[:,0], color='tab:red',label='positive prediction')\n",
    "ax.bar(np.arange(len(pred)),pred[:,1], color='tab:blue',label='negative prediction')\n",
    "\n",
    "ax.set_yticks(np.arange(-1,1.01,0.2))\n",
    "ax.set_yticklabels(str(int(np.round(100*np.abs(i))))+'%' for i in np.arange(-1,1.01,0.2))\n",
    "\n",
    "ax.bar(np.arange(len(pred)),2*(np.asarray(y_bin[1::2])-0.5), zorder=-1, color='tab:green',label='true')\n",
    "\n",
    "ax.set_ylabel('prediction', fontsize=25)\n",
    "ax.set_xlabel('sample',fontsize=25)\n",
    "ax.legend()\n",
    "plt.show()"
   ]
  },
  {
   "cell_type": "code",
   "execution_count": 7,
   "metadata": {},
   "outputs": [
    {
     "data": {
      "image/png": "[encoded data removed]",
      "text/plain": [
       "<Figure size 720x360 with 1 Axes>"
      ]
     },
     "metadata": {
      "needs_background": "light"
     },
     "output_type": "display_data"
    }
   ],
   "source": [
    "fig,ax=plt.subplots(1,1,figsize=(10,5))\n",
    "\n",
    "ax.plot(np.arange(len(pred)),np.round(pred[:,1])+0.02,'r.', label='prediction')\n",
    "ax.plot(np.arange(len(pred)),np.asarray(y_bin[1::2])-0.02,'.', label='true')\n",
    "\n",
    "ax.set_yticks([0,1])\n",
    "ax.set_xticks([])\n",
    "ax.set_yticklabels(['Normal', 'Cancer'])\n",
    "ax.legend()\n",
    "plt.show()"
   ]
  },
  {
   "cell_type": "markdown",
   "metadata": {},
   "source": [
    "----------------\n",
    "###  3. Comparision to CancerSEEK\n",
    "* plot the ROC curve and calculate the confusion matrix for the predictions\n",
    "* do the same for the CancerSEEK predictions\n",
    "* compare your model's performance to CancerSEEK performance\n",
    "------------------"
   ]
  },
  {
   "cell_type": "code",
   "execution_count": 8,
   "metadata": {},
   "outputs": [
    {
     "name": "stdout",
     "output_type": "stream",
     "text": [
      "The confusion matrix: \n",
      " \n",
      " [[357  42]\n",
      " [ 85 417]]\n"
     ]
    }
   ],
   "source": [
    "print('The confusion matrix: \\n \\n',confusion_matrix(y_true=y_bin[1::2],y_pred=np.round(pred[:,1])))"
   ]
  },
  {
   "cell_type": "code",
   "execution_count": 9,
   "metadata": {},
   "outputs": [
    {
     "name": "stdout",
     "output_type": "stream",
     "text": [
      "The confusion matrix for CancerSEEK: \n",
      " \n",
      " [[356  43]\n",
      " [104 398]]\n"
     ]
    }
   ],
   "source": [
    "print('The confusion matrix for CancerSEEK: \\n \\n',confusion_matrix(y_true=y_bin[1::2],y_pred=np.round(SEEK[1::2])))"
   ]
  },
  {
   "cell_type": "code",
   "execution_count": 10,
   "metadata": {},
   "outputs": [
    {
     "data": {
      "image/png": "[encoded data removed]",
      "text/plain": [
       "<Figure size 432x432 with 1 Axes>"
      ]
     },
     "metadata": {
      "needs_background": "light"
     },
     "output_type": "display_data"
    }
   ],
   "source": [
    "#ROC curve\n",
    "\n",
    "fig,ax=plt.subplots(1,1,figsize=(6,6))\n",
    "\n",
    "fpr,tpr,_=roc_curve(y_bin[1::2], pred[:,1])\n",
    "ax.plot(fpr,tpr,'r-', label='sklearn-LogisticRegression')\n",
    "\n",
    "fpr,tpr,_=roc_curve(y_bin[1::2], SEEK[1::2])\n",
    "ax.plot(fpr,tpr,'-', label='CancerSEEK')\n",
    "\n",
    "ax.plot([0,1],[0,1],'k')\n",
    "\n",
    "ax.set_xlim(-0.05, 1.05)\n",
    "ax.set_ylim(-0.05, 1.05)\n",
    "ax.set_xlabel('false positive rate', fontsize=20)\n",
    "ax.set_ylabel('true positive rate', fontsize=20)\n",
    "ax.legend()\n",
    "plt.show()"
   ]
  },
  {
   "cell_type": "markdown",
   "metadata": {},
   "source": [
    "### 4. Hepatocellular carcinoma\n",
    "\n",
    "* fit a logistic regression (using statsmodels API this time) to predict if a sample has Hepatocellular carcinoma (liver cancer) or not. You need to keep only the liver and the normal samples for this exercise! For fitting use only the first 25 features and all the rows (which are liver or normal)\n",
    "* select the 5 best predictor based on P values.\n",
    "* Write down the most important features (based on P value) and compare them to the tumor markers that you find on wikipeida https://en.wikipedia.org/wiki/Hepatocellular_carcinoma or other sources!"
   ]
  },
  {
   "cell_type": "code",
   "execution_count": 11,
   "metadata": {},
   "outputs": [
    {
     "name": "stdout",
     "output_type": "stream",
     "text": [
      "0.05219454329774614\n"
     ]
    }
   ],
   "source": [
    "df=pd.read_excel('aar3247_Cohen_SM_Tables-S1-S11.xlsx', \n",
    "                 sheet_name='Table S6', \n",
    "                 skiprows=2, \n",
    "                 skipfooter=4)\n",
    "\n",
    "df=df.drop_duplicates()\n",
    "\n",
    "df.pop('Sample ID #')\n",
    "df.pop('AJCC Stage')\n",
    "patients = df.pop('Patient ID #')\n",
    "df.dropna(axis=0, inplace=True)\n",
    "\n",
    "\n",
    "for i in df.columns.values[1:-2]:\n",
    "    df[i] = df[i].astype(str).str.replace('*', '').astype(float)\n",
    "\n",
    "y=df.pop('Tumor type')\n",
    "SEEK=df.pop('CancerSEEK Logistic Regression Score')\n",
    "SEEK_class=df.pop('CancerSEEK Test Result')\n",
    "\n",
    "#######################################\n",
    "\n",
    "data=df.loc[y.isin(['Normal', 'Liver'])]\n",
    "data=(data-data.mean())/data.std()\n",
    "data.reset_index(inplace=True, drop=True)\n",
    "\n",
    "y= y[y.isin(['Normal', 'Liver'])]\n",
    "\n",
    "y_bin=np.ones_like(y)\n",
    "y_bin[y=='Normal']=0\n",
    "y_bin=list(y_bin)\n",
    "print(np.mean(y_bin))"
   ]
  },
  {
   "cell_type": "code",
   "execution_count": 12,
   "metadata": {},
   "outputs": [
    {
     "name": "stdout",
     "output_type": "stream",
     "text": [
      "Optimization terminated successfully.\n",
      "         Current function value: 0.030263\n",
      "         Iterations 12\n",
      "                           Logit Regression Results                           \n",
      "==============================================================================\n",
      "Dep. Variable:                      y   No. Observations:                  843\n",
      "Model:                          Logit   Df Residuals:                      817\n",
      "Method:                           MLE   Df Model:                           25\n",
      "Date:                Wed, 13 Oct 2021   Pseudo R-squ.:                  0.8523\n",
      "Time:                        16:18:10   Log-Likelihood:                -25.512\n",
      "converged:                       True   LL-Null:                       -172.75\n",
      "Covariance Type:            nonrobust   LLR p-value:                 7.674e-48\n",
      "===========================================================================================\n",
      "                              coef    std err          z      P>|z|      [0.025      0.975]\n",
      "-------------------------------------------------------------------------------------------\n",
      "const                      -7.4597      1.469     -5.077      0.000     -10.340      -4.580\n",
      "AFP (pg/ml)                 2.0406      0.856      2.385      0.017       0.363       3.718\n",
      "Angiopoietin-2 (pg/ml)     -0.2217      0.421     -0.527      0.598      -1.046       0.603\n",
      "AXL (pg/ml)                 0.5453      0.562      0.971      0.332      -0.556       1.647\n",
      "CA-125 (U/ml)              10.0131      5.041      1.986      0.047       0.134      19.893\n",
      "CA 15-3 (U/ml)              0.6446      0.399      1.617      0.106      -0.137       1.426\n",
      "CA19-9 (U/ml)               0.1066      0.759      0.140      0.888      -1.381       1.594\n",
      "CD44 (ng/ml)               -3.5204      1.367     -2.575      0.010      -6.200      -0.841\n",
      "CEA (pg/ml)                -2.0983      4.648     -0.451      0.652     -11.209       7.013\n",
      "CYFRA 21-1 (pg/ml)          0.3897      0.881      0.442      0.658      -1.338       2.117\n",
      "DKK1 (ng/ml)               -3.3381      1.186     -2.815      0.005      -5.663      -1.014\n",
      "Endoglin (pg/ml)            0.2362      0.324      0.729      0.466      -0.399       0.871\n",
      "FGF2 (pg/ml)                0.5836      0.648      0.900      0.368      -0.687       1.854\n",
      "Follistatin (pg/ml)         0.7514      0.499      1.505      0.132      -0.227       1.730\n",
      "Galectin-3 (ng/ml)          0.1236      0.837      0.148      0.883      -1.518       1.765\n",
      "G-CSF (pg/ml)              -0.1839      0.525     -0.350      0.726      -1.213       0.845\n",
      "GDF15 (ng/ml)               0.4935      0.481      1.027      0.305      -0.448       1.435\n",
      "HE4 (pg/ml)                -1.8778      0.765     -2.455      0.014      -3.377      -0.379\n",
      "HGF (pg/ml)                 7.1753      2.194      3.271      0.001       2.875      11.475\n",
      "IL-6 (pg/ml)                0.3143      1.704      0.184      0.854      -3.025       3.654\n",
      "IL-8 (pg/ml)                0.3922      0.427      0.919      0.358      -0.444       1.229\n",
      "Kallikrein-6 (pg/ml)        0.2498      0.464      0.538      0.590      -0.660       1.159\n",
      "Leptin (pg/ml)             -1.1546      0.902     -1.280      0.201      -2.923       0.614\n",
      "Mesothelin (ng/ml)          0.9207      0.595      1.548      0.122      -0.245       2.087\n",
      "Midkine (pg/ml)            -0.5761      0.648     -0.889      0.374      -1.846       0.694\n",
      "Myeloperoxidase (ng/ml)     1.0773      0.618      1.744      0.081      -0.133       2.288\n",
      "===========================================================================================\n",
      "\n",
      "Possibly complete quasi-separation: A fraction 0.45 of observations can be\n",
      "perfectly predicted. This might indicate that there is complete\n",
      "quasi-separation. In this case some parameters will not be identified.\n"
     ]
    }
   ],
   "source": [
    "logit=sm.Logit(y_bin, sm.tools.add_constant(data[data.columns.values[:25]]))\n",
    "result = logit.fit()\n",
    "print(result.summary())"
   ]
  },
  {
   "cell_type": "code",
   "execution_count": 13,
   "metadata": {},
   "outputs": [
    {
     "data": {
      "text/plain": [
       "const                      3.842634e-07\n",
       "AFP (pg/ml)                1.710086e-02\n",
       "Angiopoietin-2 (pg/ml)     5.982439e-01\n",
       "AXL (pg/ml)                3.317886e-01\n",
       "CA-125 (U/ml)              4.698151e-02\n",
       "CA 15-3 (U/ml)             1.058648e-01\n",
       "CA19-9 (U/ml)              8.882897e-01\n",
       "CD44 (ng/ml)               1.002615e-02\n",
       "CEA (pg/ml)                6.516995e-01\n",
       "CYFRA 21-1 (pg/ml)         6.583911e-01\n",
       "DKK1 (ng/ml)               4.883949e-03\n",
       "Endoglin (pg/ml)           4.661130e-01\n",
       "FGF2 (pg/ml)               3.678792e-01\n",
       "Follistatin (pg/ml)        1.324394e-01\n",
       "Galectin-3 (ng/ml)         8.826508e-01\n",
       "G-CSF (pg/ml)              7.262538e-01\n",
       "GDF15 (ng/ml)              3.045185e-01\n",
       "HE4 (pg/ml)                1.408587e-02\n",
       "HGF (pg/ml)                1.073090e-03\n",
       "IL-6 (pg/ml)               8.536407e-01\n",
       "IL-8 (pg/ml)               3.582393e-01\n",
       "Kallikrein-6 (pg/ml)       5.903362e-01\n",
       "Leptin (pg/ml)             2.007037e-01\n",
       "Mesothelin (ng/ml)         1.217366e-01\n",
       "Midkine (pg/ml)            3.740462e-01\n",
       "Myeloperoxidase (ng/ml)    8.110798e-02\n",
       "dtype: float64"
      ]
     },
     "execution_count": 13,
     "metadata": {},
     "output_type": "execute_result"
    }
   ],
   "source": [
    "result.pvalues"
   ]
  },
  {
   "cell_type": "code",
   "execution_count": 14,
   "metadata": {},
   "outputs": [
    {
     "name": "stdout",
     "output_type": "stream",
     "text": [
      "HGF (pg/ml) P values: 0.0010730899581908\n",
      "DKK1 (ng/ml) P values: 0.0048839487859955654\n",
      "CD44 (ng/ml) P values: 0.010026149502408363\n",
      "HE4 (pg/ml) P values: 0.014085870417044526\n",
      "AFP (pg/ml) P values: 0.017100861998425712\n"
     ]
    }
   ],
   "source": [
    "for j,i in enumerate(result.pvalues.sort_values()[1:6].index):\n",
    "    print(i, 'P values:', result.pvalues.sort_values()[1:6][j])"
   ]
  },
  {
   "cell_type": "markdown",
   "metadata": {},
   "source": [
    "According to the wikipedia the alpha-fetoprotein (AFP) and DKK1 is the most important protein markers in the recognition of the HCC."
   ]
  },
  {
   "cell_type": "markdown",
   "metadata": {},
   "source": [
    "--------------\n",
    "### 5. Multiclass classification\n",
    "\n",
    "* Again, using every second datapoint train a logistic regression (sklearn API) to predict the tumor type. It is a multiclass classification problem.\n",
    "* Generate prediction for the rest of the dataset and show the confution matrix for the predictions!\n",
    "* Plot the ROC curves for the different cancer types on the same plot!\n",
    "* Intepret your results. Which cancer type can be predicted the most reliably?\n",
    "\n",
    "--------------"
   ]
  },
  {
   "cell_type": "code",
   "execution_count": 15,
   "metadata": {},
   "outputs": [],
   "source": [
    "df=pd.read_excel('aar3247_Cohen_SM_Tables-S1-S11.xlsx', \n",
    "                 sheet_name='Table S6', \n",
    "                 skiprows=2, \n",
    "                 skipfooter=4)\n",
    "\n",
    "df=df.drop_duplicates()\n",
    "\n",
    "df.pop('Sample ID #')\n",
    "df.pop('AJCC Stage')\n",
    "patients = df.pop('Patient ID #')\n",
    "df.dropna(axis=0, inplace=True)\n",
    "\n",
    "\n",
    "for i in df.columns.values[1:-2]:\n",
    "    df[i] = df[i].astype(str).str.replace('*', '').astype(float)\n",
    "\n",
    "y=df.pop('Tumor type')\n",
    "SEEK=df.pop('CancerSEEK Logistic Regression Score')\n",
    "SEEK_class=df.pop('CancerSEEK Test Result')\n",
    "\n",
    "df=(df-df.mean())/df.std()"
   ]
  },
  {
   "cell_type": "code",
   "execution_count": 16,
   "metadata": {},
   "outputs": [
    {
     "name": "stdout",
     "output_type": "stream",
     "text": [
      "['Breast' 'Colorectum' 'Esophagus' 'Liver' 'Lung' 'Normal' 'Ovary'\n",
      " 'Pancreas' 'Stomach']\n"
     ]
    }
   ],
   "source": [
    "tumor_types=np.unique(y)\n",
    "print(tumor_types)\n",
    "#to numerical\n",
    "y=[list(tumor_types).index(i) for i in y]"
   ]
  },
  {
   "cell_type": "code",
   "execution_count": 17,
   "metadata": {},
   "outputs": [],
   "source": [
    "logreg=LogisticRegression()\n",
    "logreg.fit(df[::2], y[::2])\n",
    "preds=logreg.predict(df[1::2])\n",
    "preds_probas=logreg.predict_proba(df[1::2])"
   ]
  },
  {
   "cell_type": "code",
   "execution_count": 18,
   "metadata": {},
   "outputs": [
    {
     "data": {
      "text/plain": [
       "array([[ 35,  22,   1,   1,   5,  36,   0,   2,   0],\n",
       "       [ 15, 112,  10,   1,   8,  37,   2,   1,  11],\n",
       "       [  1,  10,   1,   1,   1,   4,   0,   0,   1],\n",
       "       [  2,   3,   3,   9,   3,   0,   0,   1,   3],\n",
       "       [  8,  21,   0,   0,  13,   6,   0,   1,   0],\n",
       "       [ 14,  13,   0,   0,   2, 368,   0,   1,   1],\n",
       "       [  2,   3,   0,   0,   0,   2,  19,   0,   2],\n",
       "       [  1,   7,   1,   0,   2,  10,   0,  27,   0],\n",
       "       [  2,  14,   4,   0,   8,   4,   0,   1,   2]], dtype=int64)"
      ]
     },
     "execution_count": 18,
     "metadata": {},
     "output_type": "execute_result"
    }
   ],
   "source": [
    "cm=confusion_matrix(y_true=y[1::2], y_pred=preds)\n",
    "cm"
   ]
  },
  {
   "cell_type": "code",
   "execution_count": 19,
   "metadata": {},
   "outputs": [
    {
     "data": {
      "image/png": "[encoded data removed]",
      "text/plain": [
       "<Figure size 576x576 with 1 Axes>"
      ]
     },
     "metadata": {
      "needs_background": "light"
     },
     "output_type": "display_data"
    }
   ],
   "source": [
    "fig,ax=plt.subplots(1,1,figsize=(8,8))\n",
    "ax.imshow(cm)\n",
    "\n",
    "ax.set_xticks(np.arange(len(tumor_types)))\n",
    "ax.set_xticklabels(tumor_types, rotation=45)\n",
    "\n",
    "ax.set_yticks(np.arange(len(tumor_types)))\n",
    "ax.set_yticklabels(tumor_types, rotation=45)\n",
    "\n",
    "ax.set_xticks(np.arange(-.5, len(tumor_types), 1), minor=True)\n",
    "ax.set_yticks(np.arange(-.5, len(tumor_types),1), minor=True)\n",
    "\n",
    "ax.grid(which='minor', color='w', linestyle='-', linewidth=2)\n",
    "\n",
    "for i in np.arange(0,len(tumor_types),1):\n",
    "    for j in np.arange(0,len(tumor_types),1):\n",
    "        ax.text(i,j,str(cm[i,j]),ha=\"center\", va=\"center\", color=\"w\", fontsize=20)\n",
    "plt.show()"
   ]
  },
  {
   "cell_type": "code",
   "execution_count": 20,
   "metadata": {},
   "outputs": [
    {
     "data": {
      "image/png": "[encoded data removed]",
      "text/plain": [
       "<Figure size 576x576 with 1 Axes>"
      ]
     },
     "metadata": {
      "needs_background": "light"
     },
     "output_type": "display_data"
    }
   ],
   "source": [
    "fig,ax=plt.subplots(1,1,figsize=(8, 8))\n",
    "\n",
    "for i,j in enumerate(tumor_types):\n",
    "    fpr,tpr,_=roc_curve([int(y_i==i) for y_i in y[1::2]],preds_probas[:,i])\n",
    "\n",
    "    plt.plot(fpr, tpr, label=j, lw=3)\n",
    "    \n",
    "plt.legend(fontsize=15)\n",
    "plt.xlim(-0.05, 1.05)\n",
    "plt.ylim(-0.05, 1.05)\n",
    "plt.xlabel('false positive rate', fontsize=15)\n",
    "plt.ylabel('true positive rate', fontsize=15)\n",
    "\n",
    "plt.plot([0, 1], [0, 1], color='k', lw=2, linestyle='--')\n",
    "plt.show()"
   ]
  },
  {
   "cell_type": "markdown",
   "metadata": {},
   "source": [
    "It seems like the ovarium prediction is the most reliable and generally, the false positive rate is the most lower in the case of ovarian tumours."
   ]
  },
  {
   "cell_type": "code",
   "execution_count": null,
   "metadata": {},
   "outputs": [],
   "source": []
  }
 ],
 "metadata": {
  "colab": {
   "authorship_tag": "ABX9TyNDWdNEa3X4meGwV4cb9zN1",
   "collapsed_sections": [],
   "include_colab_link": true,
   "name": "HW5_raw.ipynb",
   "provenance": []
  },
  "kernelspec": {
   "display_name": "Python 3",
   "language": "python",
   "name": "python3"
  },
  "language_info": {
   "codemirror_mode": {
    "name": "ipython",
    "version": 3
   },
   "file_extension": ".py",
   "mimetype": "text/x-python",
   "name": "python",
   "nbconvert_exporter": "python",
   "pygments_lexer": "ipython3",
   "version": "3.8.8"
  }
 },
 "nbformat": 4,
 "nbformat_minor": 4
}
