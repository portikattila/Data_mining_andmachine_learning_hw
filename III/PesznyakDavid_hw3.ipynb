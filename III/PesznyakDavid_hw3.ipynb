{
 "cells": [
  {
   "cell_type": "markdown",
   "metadata": {
    "id": "Jp4J8Pk4B4Os"
   },
   "source": [
    "# Supervised learning introduction, K-Nearest Neighbours (KNN)\n",
    "\n",
    "Your task will be to predict wine quality from physicochemical features with the help of the \n",
    "[Wine Quality Data Set](https://archive.ics.uci.edu/ml/datasets/Wine+Quality). You will have to do it both as a regression and classification task. \n",
    "\n",
    "### Hints:\n",
    "- On total you can get 10 points for fully completing all tasks.\n",
    "- Decorate your notebook with questions, explanation etc, make it self contained and understandable!\n",
    "- Comment your code when necessary!\n",
    "- Write functions for repetitive tasks!\n",
    "- Use the pandas package for data loading and handling\n",
    "- Use matplotlib and seaborn for plotting or bokeh and plotly for interactive investigation\n",
    "- Use the scikit learn package for almost everything\n",
    "- Use for loops only if it is really necessary!\n",
    "- Code sharing is not allowed between students! Sharing code will result in zero points.\n",
    "- If you use code found on web, it is OK, but, make its source clear!"
   ]
  },
  {
   "cell_type": "code",
   "execution_count": 2,
   "metadata": {},
   "outputs": [],
   "source": [
    "# importing used packages/libraries/methods\n",
    "import numpy as np\n",
    "import matplotlib.pyplot as plt\n",
    "import pandas as pd\n",
    "from sklearn.model_selection import train_test_split\n",
    "from sklearn.preprocessing import OneHotEncoder"
   ]
  },
  {
   "cell_type": "markdown",
   "metadata": {},
   "source": [
    "# Task 1.\n",
    "### Read data\n",
    "  - Read the provided winequality-red.csv file. \n",
    "  - Check for missing values and that all entries are numerical. Also, check for duplicated entries (rows) and drop them.  \n",
    "  - Use all columns except the last as features and the quality column as target. \n",
    "  - Make 80-20% train test split (use sklearn).\n",
    "  - Prepare a one-hot encoded version of the y_test and y_train values i.e. make a six long vector of the 6 quality classes (3-8), with only one non-zero value, e.g. 3->[1,0,0,0,0,0], 4->[0,1,0,0,0,0], 5->[0,0,1,0,0,0] etc. (You can use pandas or sklearn for that.) *You will have to use the one-hot encoded labels in the classification exercise only.*\n",
    "  - Normalize the features by substracting the means and dividing by the standard deviation feature by feature. If you want to be very precise, you should use only the mean and std in the training set for normalization, because generally the test is not available at training time."
   ]
  },
  {
   "cell_type": "code",
   "execution_count": 4,
   "metadata": {},
   "outputs": [
    {
     "data": {
      "text/html": [
       "<div>\n",
       "<style scoped>\n",
       "    .dataframe tbody tr th:only-of-type {\n",
       "        vertical-align: middle;\n",
       "    }\n",
       "\n",
       "    .dataframe tbody tr th {\n",
       "        vertical-align: top;\n",
       "    }\n",
       "\n",
       "    .dataframe thead th {\n",
       "        text-align: right;\n",
       "    }\n",
       "</style>\n",
       "<table border=\"1\" class=\"dataframe\">\n",
       "  <thead>\n",
       "    <tr style=\"text-align: right;\">\n",
       "      <th></th>\n",
       "      <th>fixed acidity</th>\n",
       "      <th>volatile acidity</th>\n",
       "      <th>citric acid</th>\n",
       "      <th>residual sugar</th>\n",
       "      <th>chlorides</th>\n",
       "      <th>free sulfur dioxide</th>\n",
       "      <th>total sulfur dioxide</th>\n",
       "      <th>density</th>\n",
       "      <th>pH</th>\n",
       "      <th>sulphates</th>\n",
       "      <th>alcohol</th>\n",
       "      <th>quality</th>\n",
       "    </tr>\n",
       "  </thead>\n",
       "  <tbody>\n",
       "    <tr>\n",
       "      <th>0</th>\n",
       "      <td>7.4</td>\n",
       "      <td>0.70</td>\n",
       "      <td>0.00</td>\n",
       "      <td>1.9</td>\n",
       "      <td>0.076</td>\n",
       "      <td>11.0</td>\n",
       "      <td>34.0</td>\n",
       "      <td>0.9978</td>\n",
       "      <td>3.51</td>\n",
       "      <td>0.56</td>\n",
       "      <td>9.4</td>\n",
       "      <td>5</td>\n",
       "    </tr>\n",
       "    <tr>\n",
       "      <th>1</th>\n",
       "      <td>7.8</td>\n",
       "      <td>0.88</td>\n",
       "      <td>0.00</td>\n",
       "      <td>2.6</td>\n",
       "      <td>0.098</td>\n",
       "      <td>25.0</td>\n",
       "      <td>67.0</td>\n",
       "      <td>0.9968</td>\n",
       "      <td>3.20</td>\n",
       "      <td>0.68</td>\n",
       "      <td>9.8</td>\n",
       "      <td>5</td>\n",
       "    </tr>\n",
       "    <tr>\n",
       "      <th>2</th>\n",
       "      <td>7.8</td>\n",
       "      <td>0.76</td>\n",
       "      <td>0.04</td>\n",
       "      <td>2.3</td>\n",
       "      <td>0.092</td>\n",
       "      <td>15.0</td>\n",
       "      <td>54.0</td>\n",
       "      <td>0.9970</td>\n",
       "      <td>3.26</td>\n",
       "      <td>0.65</td>\n",
       "      <td>9.8</td>\n",
       "      <td>5</td>\n",
       "    </tr>\n",
       "    <tr>\n",
       "      <th>3</th>\n",
       "      <td>11.2</td>\n",
       "      <td>0.28</td>\n",
       "      <td>0.56</td>\n",
       "      <td>1.9</td>\n",
       "      <td>0.075</td>\n",
       "      <td>17.0</td>\n",
       "      <td>60.0</td>\n",
       "      <td>0.9980</td>\n",
       "      <td>3.16</td>\n",
       "      <td>0.58</td>\n",
       "      <td>9.8</td>\n",
       "      <td>6</td>\n",
       "    </tr>\n",
       "    <tr>\n",
       "      <th>4</th>\n",
       "      <td>7.4</td>\n",
       "      <td>0.70</td>\n",
       "      <td>0.00</td>\n",
       "      <td>1.9</td>\n",
       "      <td>0.076</td>\n",
       "      <td>11.0</td>\n",
       "      <td>34.0</td>\n",
       "      <td>0.9978</td>\n",
       "      <td>3.51</td>\n",
       "      <td>0.56</td>\n",
       "      <td>9.4</td>\n",
       "      <td>5</td>\n",
       "    </tr>\n",
       "  </tbody>\n",
       "</table>\n",
       "</div>"
      ],
      "text/plain": [
       "   fixed acidity  volatile acidity  citric acid  residual sugar  chlorides  \\\n",
       "0            7.4              0.70         0.00             1.9      0.076   \n",
       "1            7.8              0.88         0.00             2.6      0.098   \n",
       "2            7.8              0.76         0.04             2.3      0.092   \n",
       "3           11.2              0.28         0.56             1.9      0.075   \n",
       "4            7.4              0.70         0.00             1.9      0.076   \n",
       "\n",
       "   free sulfur dioxide  total sulfur dioxide  density    pH  sulphates  \\\n",
       "0                 11.0                  34.0   0.9978  3.51       0.56   \n",
       "1                 25.0                  67.0   0.9968  3.20       0.68   \n",
       "2                 15.0                  54.0   0.9970  3.26       0.65   \n",
       "3                 17.0                  60.0   0.9980  3.16       0.58   \n",
       "4                 11.0                  34.0   0.9978  3.51       0.56   \n",
       "\n",
       "   alcohol  quality  \n",
       "0      9.4        5  \n",
       "1      9.8        5  \n",
       "2      9.8        5  \n",
       "3      9.8        6  \n",
       "4      9.4        5  "
      ]
     },
     "execution_count": 4,
     "metadata": {},
     "output_type": "execute_result"
    }
   ],
   "source": [
    "# load raw wine data\n",
    "rawData = pd.read_csv('winequality-red.csv', sep = ';')\n",
    "# head of the raw data\n",
    "rawData.head()"
   ]
  },
  {
   "cell_type": "code",
   "execution_count": 5,
   "metadata": {},
   "outputs": [
    {
     "data": {
      "text/plain": [
       "False"
      ]
     },
     "execution_count": 5,
     "metadata": {},
     "output_type": "execute_result"
    }
   ],
   "source": [
    "# check for missing values\n",
    "rawData.isna().any().any()"
   ]
  },
  {
   "cell_type": "code",
   "execution_count": 6,
   "metadata": {},
   "outputs": [
    {
     "name": "stdout",
     "output_type": "stream",
     "text": [
      "1\n",
      "All values are numeric in column: fixed acidity\n",
      "2\n",
      "All values are numeric in column: volatile acidity\n",
      "3\n",
      "All values are numeric in column: citric acid\n",
      "4\n",
      "All values are numeric in column: residual sugar\n",
      "5\n",
      "All values are numeric in column: chlorides\n",
      "6\n",
      "All values are numeric in column: free sulfur dioxide\n",
      "7\n",
      "All values are numeric in column: total sulfur dioxide\n",
      "8\n",
      "All values are numeric in column: density\n",
      "9\n",
      "All values are numeric in column: pH\n",
      "10\n",
      "All values are numeric in column: sulphates\n",
      "11\n",
      "All values are numeric in column: alcohol\n",
      "12\n",
      "All values are numeric in column: quality\n"
     ]
    }
   ],
   "source": [
    "# check if dtypes are all numeric\n",
    "colCount = 0\n",
    "for i in rawData.columns.values:\n",
    "    if pd.api.types.is_numeric_dtype(rawData[i]) == True:\n",
    "        colCount += 1\n",
    "        print(colCount)\n",
    "        print('All values are numeric in column: ' + i)"
   ]
  },
  {
   "cell_type": "markdown",
   "metadata": {},
   "source": [
    "## Comments\n",
    "It seems that there are no missing values and all the values are in numeric form."
   ]
  },
  {
   "cell_type": "code",
   "execution_count": 7,
   "metadata": {},
   "outputs": [
    {
     "data": {
      "text/html": [
       "<div>\n",
       "<style scoped>\n",
       "    .dataframe tbody tr th:only-of-type {\n",
       "        vertical-align: middle;\n",
       "    }\n",
       "\n",
       "    .dataframe tbody tr th {\n",
       "        vertical-align: top;\n",
       "    }\n",
       "\n",
       "    .dataframe thead th {\n",
       "        text-align: right;\n",
       "    }\n",
       "</style>\n",
       "<table border=\"1\" class=\"dataframe\">\n",
       "  <thead>\n",
       "    <tr style=\"text-align: right;\">\n",
       "      <th></th>\n",
       "      <th>fixed acidity</th>\n",
       "      <th>volatile acidity</th>\n",
       "      <th>citric acid</th>\n",
       "      <th>residual sugar</th>\n",
       "      <th>chlorides</th>\n",
       "      <th>free sulfur dioxide</th>\n",
       "      <th>total sulfur dioxide</th>\n",
       "      <th>density</th>\n",
       "      <th>pH</th>\n",
       "      <th>sulphates</th>\n",
       "      <th>alcohol</th>\n",
       "    </tr>\n",
       "  </thead>\n",
       "  <tbody>\n",
       "    <tr>\n",
       "      <th>0</th>\n",
       "      <td>7.4</td>\n",
       "      <td>0.70</td>\n",
       "      <td>0.00</td>\n",
       "      <td>1.9</td>\n",
       "      <td>0.076</td>\n",
       "      <td>11.0</td>\n",
       "      <td>34.0</td>\n",
       "      <td>0.9978</td>\n",
       "      <td>3.51</td>\n",
       "      <td>0.56</td>\n",
       "      <td>9.4</td>\n",
       "    </tr>\n",
       "    <tr>\n",
       "      <th>1</th>\n",
       "      <td>7.8</td>\n",
       "      <td>0.88</td>\n",
       "      <td>0.00</td>\n",
       "      <td>2.6</td>\n",
       "      <td>0.098</td>\n",
       "      <td>25.0</td>\n",
       "      <td>67.0</td>\n",
       "      <td>0.9968</td>\n",
       "      <td>3.20</td>\n",
       "      <td>0.68</td>\n",
       "      <td>9.8</td>\n",
       "    </tr>\n",
       "    <tr>\n",
       "      <th>2</th>\n",
       "      <td>7.8</td>\n",
       "      <td>0.76</td>\n",
       "      <td>0.04</td>\n",
       "      <td>2.3</td>\n",
       "      <td>0.092</td>\n",
       "      <td>15.0</td>\n",
       "      <td>54.0</td>\n",
       "      <td>0.9970</td>\n",
       "      <td>3.26</td>\n",
       "      <td>0.65</td>\n",
       "      <td>9.8</td>\n",
       "    </tr>\n",
       "    <tr>\n",
       "      <th>3</th>\n",
       "      <td>11.2</td>\n",
       "      <td>0.28</td>\n",
       "      <td>0.56</td>\n",
       "      <td>1.9</td>\n",
       "      <td>0.075</td>\n",
       "      <td>17.0</td>\n",
       "      <td>60.0</td>\n",
       "      <td>0.9980</td>\n",
       "      <td>3.16</td>\n",
       "      <td>0.58</td>\n",
       "      <td>9.8</td>\n",
       "    </tr>\n",
       "    <tr>\n",
       "      <th>4</th>\n",
       "      <td>7.4</td>\n",
       "      <td>0.70</td>\n",
       "      <td>0.00</td>\n",
       "      <td>1.9</td>\n",
       "      <td>0.076</td>\n",
       "      <td>11.0</td>\n",
       "      <td>34.0</td>\n",
       "      <td>0.9978</td>\n",
       "      <td>3.51</td>\n",
       "      <td>0.56</td>\n",
       "      <td>9.4</td>\n",
       "    </tr>\n",
       "  </tbody>\n",
       "</table>\n",
       "</div>"
      ],
      "text/plain": [
       "   fixed acidity  volatile acidity  citric acid  residual sugar  chlorides  \\\n",
       "0            7.4              0.70         0.00             1.9      0.076   \n",
       "1            7.8              0.88         0.00             2.6      0.098   \n",
       "2            7.8              0.76         0.04             2.3      0.092   \n",
       "3           11.2              0.28         0.56             1.9      0.075   \n",
       "4            7.4              0.70         0.00             1.9      0.076   \n",
       "\n",
       "   free sulfur dioxide  total sulfur dioxide  density    pH  sulphates  \\\n",
       "0                 11.0                  34.0   0.9978  3.51       0.56   \n",
       "1                 25.0                  67.0   0.9968  3.20       0.68   \n",
       "2                 15.0                  54.0   0.9970  3.26       0.65   \n",
       "3                 17.0                  60.0   0.9980  3.16       0.58   \n",
       "4                 11.0                  34.0   0.9978  3.51       0.56   \n",
       "\n",
       "   alcohol  \n",
       "0      9.4  \n",
       "1      9.8  \n",
       "2      9.8  \n",
       "3      9.8  \n",
       "4      9.4  "
      ]
     },
     "execution_count": 7,
     "metadata": {},
     "output_type": "execute_result"
    }
   ],
   "source": [
    "# creating features ~ drop last (quality) columns\n",
    "features = rawData.drop(['quality'], axis = 1)\n",
    "# head of features\n",
    "features.head()"
   ]
  },
  {
   "cell_type": "code",
   "execution_count": 8,
   "metadata": {},
   "outputs": [
    {
     "data": {
      "text/html": [
       "<div>\n",
       "<style scoped>\n",
       "    .dataframe tbody tr th:only-of-type {\n",
       "        vertical-align: middle;\n",
       "    }\n",
       "\n",
       "    .dataframe tbody tr th {\n",
       "        vertical-align: top;\n",
       "    }\n",
       "\n",
       "    .dataframe thead th {\n",
       "        text-align: right;\n",
       "    }\n",
       "</style>\n",
       "<table border=\"1\" class=\"dataframe\">\n",
       "  <thead>\n",
       "    <tr style=\"text-align: right;\">\n",
       "      <th></th>\n",
       "      <th>quality</th>\n",
       "    </tr>\n",
       "  </thead>\n",
       "  <tbody>\n",
       "    <tr>\n",
       "      <th>0</th>\n",
       "      <td>5</td>\n",
       "    </tr>\n",
       "    <tr>\n",
       "      <th>1</th>\n",
       "      <td>5</td>\n",
       "    </tr>\n",
       "    <tr>\n",
       "      <th>2</th>\n",
       "      <td>5</td>\n",
       "    </tr>\n",
       "    <tr>\n",
       "      <th>3</th>\n",
       "      <td>6</td>\n",
       "    </tr>\n",
       "    <tr>\n",
       "      <th>4</th>\n",
       "      <td>5</td>\n",
       "    </tr>\n",
       "  </tbody>\n",
       "</table>\n",
       "</div>"
      ],
      "text/plain": [
       "   quality\n",
       "0        5\n",
       "1        5\n",
       "2        5\n",
       "3        6\n",
       "4        5"
      ]
     },
     "execution_count": 8,
     "metadata": {},
     "output_type": "execute_result"
    }
   ],
   "source": [
    "# creating target ~ keep last (quality) columns\n",
    "target = pd.DataFrame(rawData['quality'])\n",
    "# head of target\n",
    "target.head()"
   ]
  },
  {
   "cell_type": "code",
   "execution_count": 26,
   "metadata": {},
   "outputs": [],
   "source": [
    "# split for training and testing (80% - 20%)\n",
    "features_train, features_test, target_train, target_test = train_test_split(features, target, test_size = 0.2, random_state = 42)"
   ]
  },
  {
   "cell_type": "code",
   "execution_count": 31,
   "metadata": {},
   "outputs": [
    {
     "data": {
      "text/plain": [
       "(1599, 11)"
      ]
     },
     "execution_count": 31,
     "metadata": {},
     "output_type": "execute_result"
    }
   ],
   "source": [
    "features.shape"
   ]
  },
  {
   "cell_type": "code",
   "execution_count": 10,
   "metadata": {},
   "outputs": [
    {
     "data": {
      "text/plain": [
       "array([[0., 0., 1., 0., 0., 0.],\n",
       "       [0., 0., 1., 0., 0., 0.],\n",
       "       [0., 0., 1., 0., 0., 0.],\n",
       "       ...,\n",
       "       [0., 0., 0., 1., 0., 0.],\n",
       "       [0., 0., 1., 0., 0., 0.],\n",
       "       [0., 0., 0., 1., 0., 0.]])"
      ]
     },
     "execution_count": 10,
     "metadata": {},
     "output_type": "execute_result"
    }
   ],
   "source": [
    "# one-hot encoding with sklearn\n",
    "enc = OneHotEncoder(handle_unknown = 'ignore')\n",
    "enc.fit(target)\n",
    "# showing working vectors\n",
    "enc.transform(target).toarray()"
   ]
  },
  {
   "cell_type": "code",
   "execution_count": 11,
   "metadata": {},
   "outputs": [],
   "source": [
    "# normalizing training features\n",
    "features_train = (features_train - features_train.mean()) / features_train.std()\n",
    "# normalizing test features\n",
    "features_test = (features_test - features_test.mean()) / features_test.std()"
   ]
  },
  {
   "cell_type": "markdown",
   "metadata": {},
   "source": [
    "# Task 2.\n",
    "\n",
    "### KNN regression\n",
    "- Implement naive K-nearest neighbours regression as a function only using python and numpy. The signature of the function should be:\n",
    "```python\n",
    "def knn_regression(x_test, x_train, y_train, k = 20):\n",
    "        \"\"\"Return prediction with knn regression.\"\"\"\n",
    "        .\n",
    "        .\n",
    "        .\n",
    "        return y_pred\n",
    "```\n",
    "- Use Euclidean distance as a measure of distance.\n",
    "- Make prediction with k = 20 for the test set using the training data.\n",
    "- Plot the true and the predicted values from the test set on a scatterplot."
   ]
  },
  {
   "cell_type": "code",
   "execution_count": 12,
   "metadata": {},
   "outputs": [],
   "source": [
    "# converting pandas DataFrames to numpy arrays\n",
    "features_train_numpy = features_train.to_numpy()\n",
    "features_test_numpy = features_test.to_numpy()\n",
    "target_train_numpy = target_train.to_numpy().T[0]\n",
    "target_test_numpy = target_test.to_numpy().T[0]"
   ]
  },
  {
   "cell_type": "code",
   "execution_count": 13,
   "metadata": {},
   "outputs": [],
   "source": [
    "# Euclidean distances between a set of training vectors and a single test vector\n",
    "def DistEuclidean(x_train_set, x_test_single):\n",
    "    return np.sqrt(np.array(((x_train_set - x_test_single) ** 2).sum(axis = 1)))"
   ]
  },
  {
   "cell_type": "code",
   "execution_count": 14,
   "metadata": {},
   "outputs": [],
   "source": [
    "# implementing K nearest neighbour regression (numpy and simple python only)\n",
    "def knn_regression(x_test, x_train, y_train, k = 20):\n",
    "    '''Return prediction with knn regression.'''\n",
    "    \n",
    "    # container for predictions\n",
    "    y_pred = []\n",
    "    # loop over test vectors\n",
    "    for i in range(x_test.shape[0]):\n",
    "        # calculated distances from all training vectors\n",
    "        iDistances = DistEuclidean(x_train, x_test[i])\n",
    "        \n",
    "        # get indices of the k closest vectors\n",
    "        iClosestIndices = iDistances.argsort()[:k]\n",
    "        \n",
    "        # get labels of the k closest vectors\n",
    "        iLabels = y_train[iClosestIndices]\n",
    "        \n",
    "        # applying majority voting\n",
    "        #y_pred.append(np.bincount(iLabels).argmax())\n",
    "        \n",
    "        # applying arithmetic mean\n",
    "        y_pred.append(np.mean(iLabels))\n",
    "        \n",
    "    # return predictions\n",
    "    return np.array(y_pred)"
   ]
  },
  {
   "cell_type": "code",
   "execution_count": 15,
   "metadata": {},
   "outputs": [],
   "source": [
    "# make predictions with naive K-nearest neighbours regression\n",
    "y_predNaive = knn_regression(features_test_numpy, features_train_numpy, target_train_numpy)"
   ]
  },
  {
   "cell_type": "code",
   "execution_count": null,
   "metadata": {},
   "outputs": [],
   "source": []
  },
  {
   "cell_type": "code",
   "execution_count": 16,
   "metadata": {},
   "outputs": [
    {
     "data": {
      "text/plain": [
       "array([5.55, 5.3 , 5.6 , 5.65, 5.75, 5.45, 5.  , 5.  , 5.75, 5.9 , 6.55,\n",
       "       5.45, 5.8 , 5.5 , 5.45, 6.55, 5.35, 5.6 , 6.5 , 5.45, 4.9 , 5.45,\n",
       "       5.5 , 6.1 , 5.55, 5.55, 6.35, 5.7 , 5.15, 6.25, 5.45, 5.25, 5.55,\n",
       "       5.15, 5.55, 5.4 , 6.35, 5.85, 5.6 , 6.25, 5.55, 5.25, 6.45, 5.3 ,\n",
       "       6.1 , 5.75, 6.4 , 5.55, 5.  , 5.65, 5.  , 5.3 , 5.75, 6.4 , 5.1 ,\n",
       "       5.2 , 6.  , 5.6 , 5.8 , 5.5 , 5.55, 6.1 , 5.2 , 5.3 , 6.55, 5.5 ,\n",
       "       6.5 , 5.75, 6.7 , 5.25, 6.3 , 5.  , 5.75, 5.95, 6.35, 5.25, 6.45,\n",
       "       5.55, 5.85, 6.55, 5.45, 6.65, 5.55, 5.4 , 5.9 , 6.05, 5.15, 6.05,\n",
       "       6.45, 5.4 , 6.05, 5.2 , 5.55, 5.75, 5.4 , 5.45, 5.35, 5.55, 5.1 ,\n",
       "       6.  , 5.3 , 5.05, 5.7 , 5.2 , 5.6 , 6.15, 5.85, 5.45, 5.5 , 5.4 ,\n",
       "       6.1 , 5.25, 6.  , 5.  , 5.65, 5.95, 5.95, 5.45, 5.2 , 5.95, 6.4 ,\n",
       "       5.45, 6.  , 5.2 , 5.6 , 5.7 , 6.2 , 5.5 , 5.45, 5.7 , 5.75, 5.15,\n",
       "       5.25, 6.5 , 5.65, 4.9 , 5.2 , 5.15, 5.4 , 5.7 , 6.05, 6.2 , 6.4 ,\n",
       "       5.6 , 6.05, 5.2 , 5.9 , 5.1 , 5.7 , 5.1 , 5.6 , 6.05, 5.3 , 5.7 ,\n",
       "       5.75, 6.  , 5.4 , 5.8 , 5.5 , 5.95, 6.45, 5.5 , 5.95, 5.5 , 5.4 ,\n",
       "       5.4 , 4.8 , 5.35, 5.1 , 5.15, 5.15, 5.25, 6.45, 5.4 , 5.4 , 5.8 ,\n",
       "       5.8 , 5.35, 5.3 , 5.45, 4.9 , 6.65, 5.4 , 6.65, 5.2 , 6.4 , 5.55,\n",
       "       5.95, 6.9 , 5.4 , 5.7 , 6.  , 5.4 , 6.6 , 5.6 , 5.45, 4.85, 5.5 ,\n",
       "       5.75, 6.15, 5.6 , 5.25, 5.3 , 5.4 , 6.55, 5.9 , 5.3 , 5.4 , 5.65,\n",
       "       5.75, 6.2 , 4.95, 5.85, 6.15, 6.65, 6.  , 5.75, 5.25, 6.05, 5.55,\n",
       "       5.35, 6.05, 6.5 , 5.7 , 5.35, 5.  , 5.35, 6.5 , 5.25, 5.65, 5.5 ,\n",
       "       5.05, 6.5 , 6.  , 5.95, 6.15, 5.4 , 5.9 , 5.45, 5.1 , 5.9 , 5.25,\n",
       "       6.1 , 6.4 , 5.35, 6.05, 5.8 , 5.45, 6.55, 5.1 , 5.95, 5.45, 5.55,\n",
       "       5.35, 5.05, 5.45, 5.5 , 5.8 , 5.8 , 6.15, 6.45, 5.75, 5.35, 6.6 ,\n",
       "       5.85, 6.35, 5.5 , 5.15, 6.  , 6.35, 5.2 , 5.65, 5.45, 5.3 , 5.3 ,\n",
       "       5.15, 5.6 , 6.1 , 6.05, 5.35, 6.65, 5.4 , 5.6 , 5.6 , 5.4 , 5.85,\n",
       "       5.25, 6.2 , 5.4 , 5.75, 5.25, 6.75, 5.9 , 5.55, 5.2 , 6.4 , 5.25,\n",
       "       6.45, 6.35, 6.4 , 5.45, 5.1 , 6.35, 5.5 , 5.35, 5.3 , 5.7 , 5.95,\n",
       "       6.15, 6.45, 5.85, 5.35, 5.5 , 5.7 , 5.15, 5.85, 5.25, 5.2 , 6.45,\n",
       "       5.05])"
      ]
     },
     "execution_count": 16,
     "metadata": {},
     "output_type": "execute_result"
    }
   ],
   "source": [
    "y_predNaive"
   ]
  },
  {
   "cell_type": "code",
   "execution_count": 14,
   "metadata": {},
   "outputs": [
    {
     "data": {
      "text/plain": [
       "(array([2., 3., 4., 5., 6., 7., 8., 9.]),\n",
       " <a list of 8 Text major ticklabel objects>)"
      ]
     },
     "execution_count": 14,
     "metadata": {},
     "output_type": "execute_result"
    },
    {
     "data": {
      "image/png": "[encoded data removed]",
      "text/plain": [
       "<Figure size 576x576 with 1 Axes>"
      ]
     },
     "metadata": {
      "needs_background": "light"
     },
     "output_type": "display_data"
    }
   ],
   "source": [
    "plt.figure(figsize = (8, 8))\n",
    "scatterSigma = 0.1\n",
    "plt.plot(y_predNaive, target_test_numpy, 'o', alpha = 0.3)\n",
    "y_ideal = np.linspace(3, 8, 100)\n",
    "plt.plot(y_ideal, y_ideal, '--')\n",
    "plt.grid()\n",
    "plt.xlabel('predicted quality', size = 15)\n",
    "plt.ylabel('true quality', size = 15)\n",
    "plt.xticks(size = 10)\n",
    "plt.yticks(size = 10)"
   ]
  },
  {
   "cell_type": "markdown",
   "metadata": {},
   "source": [
    "# Task 3.\n",
    "\n",
    "\n",
    "### Weighted KNN regression\n",
    "- Modify the knn_regression function by adding a weight to each neighbour that is inversely proportional to the distance.\n",
    "```python\n",
    "def knn_weighted_regression(x_test, x_train, y_train, k = 20):\n",
    "    \"\"\"Return prediction with weighted knn regression.\"\"\"\n",
    "    ...\n",
    "    return y_pred\n",
    "```\n",
    "- Make prediction with k = 20 for the test set using the training data.\n",
    "- Plot the true and the predicted values from the test set on a scatterplot."
   ]
  },
  {
   "cell_type": "code",
   "execution_count": 15,
   "metadata": {},
   "outputs": [],
   "source": [
    "# implementing weighted K nearest neighbour regression (numpy and simple python only)\n",
    "def knn_weighted_regression(x_test, x_train, y_train, k = 20):\n",
    "    '''Return prediction with knn regression.'''\n",
    "    \n",
    "    # container for predictions\n",
    "    y_pred = []\n",
    "    # loop over test vectors\n",
    "    for i in range(x_test.shape[0]):\n",
    "        # calculated distances from all training vectors\n",
    "        iDistances = DistEuclidean(x_train, x_test[i])\n",
    "        \n",
    "        # get indices of the k closest vectors\n",
    "        iClosestIndices = iDistances.argsort()[:k]\n",
    "        \n",
    "        # get labels of the k closest vectors\n",
    "        iLabels = y_train[iClosestIndices]\n",
    "        \n",
    "        # instead of arithmetic mean we use weighted average with weights inversely proportional to the distance\n",
    "        y_pred.append(np.average(iLabels, weights = 1 / iDistances[iClosestIndices]))\n",
    "        \n",
    "    # return predictions\n",
    "    return np.array(y_pred)"
   ]
  },
  {
   "cell_type": "code",
   "execution_count": 16,
   "metadata": {},
   "outputs": [],
   "source": [
    "# make predictions with weighted K-nearest neighbours regression\n",
    "y_predWeighted = knn_weighted_regression(features_test_numpy, features_train_numpy, target_train_numpy)"
   ]
  },
  {
   "cell_type": "code",
   "execution_count": 17,
   "metadata": {},
   "outputs": [
    {
     "data": {
      "text/plain": [
       "(array([2., 3., 4., 5., 6., 7., 8., 9.]),\n",
       " <a list of 8 Text major ticklabel objects>)"
      ]
     },
     "execution_count": 17,
     "metadata": {},
     "output_type": "execute_result"
    },
    {
     "data": {
      "image/png": "[encoded data removed]",
      "text/plain": [
       "<Figure size 576x576 with 1 Axes>"
      ]
     },
     "metadata": {
      "needs_background": "light"
     },
     "output_type": "display_data"
    }
   ],
   "source": [
    "plt.figure(figsize = (8, 8))\n",
    "scatterSigma = 0.1\n",
    "plt.plot(y_predWeighted, target_test_numpy, 'o', alpha = 0.3)\n",
    "y_ideal = np.linspace(3, 8, 100)\n",
    "plt.plot(y_ideal, y_ideal, '--')\n",
    "plt.grid()\n",
    "plt.xlabel('predicted quality', size = 15)\n",
    "plt.ylabel('true quality', size = 15)\n",
    "plt.xticks(size = 10)\n",
    "plt.yticks(size = 10)"
   ]
  },
  {
   "cell_type": "markdown",
   "metadata": {},
   "source": [
    "# Task 4.\n",
    "### KNN classification\n",
    "- Implement the K-nearest neighbours classification algorithm using only pure Python3 and numpy! Use L2 distance to find the neighbors. The prediction for each class should be the number of neighbors supporting the given class divided by k (for example if k is 5 and we have 3 neighbors for class A, 2 for class B and 0 for class C neighbors, then the prediction for class A should be 3/5, for class B 2/5, for class C 0/5). Use the one-hot encoded labels!\n",
    "```python\n",
    "def knn_classifier(x_train,  x_test, y_train, k = 20):\n",
    "    \"\"\"Return prediction with knn classification.\"\"\"\n",
    "    ...\n",
    "    return y_pred\n",
    "```\n",
    "\n",
    "- Make prediction with k = 20 for the test set using the training data."
   ]
  },
  {
   "cell_type": "code",
   "execution_count": 18,
   "metadata": {},
   "outputs": [],
   "source": [
    "# converting training target labels to one-hot encoded form\n",
    "target_train_onehot = enc.transform(target_train).toarray()"
   ]
  },
  {
   "cell_type": "code",
   "execution_count": 19,
   "metadata": {},
   "outputs": [],
   "source": [
    "# implementing K nearest neighbour classification (numpy and simple python only)\n",
    "def knn_classifier(x_test, x_train, y_train, k = 20):\n",
    "    '''Return prediction with knn classification.'''\n",
    "    \n",
    "    # container for predictions\n",
    "    labels = []\n",
    "    # loop over test vectors\n",
    "    for i in range(x_test.shape[0]):\n",
    "        # calculated distances from all training vectors\n",
    "        iDistances = DistEuclidean(x_train, x_test[i])\n",
    "        \n",
    "        # get indices of the k closest vectors\n",
    "        iClosestIndices = iDistances.argsort()[:k]\n",
    "        \n",
    "        # get labels of the k closest vectors\n",
    "        iLabels = y_train[iClosestIndices]\n",
    "        \n",
    "        # applying majority voting\n",
    "        labels.append(iLabels.sum(axis = 0).argmax() + 3)\n",
    "    \n",
    "    # reshape \n",
    "    labels = np.reshape(labels, (x_test.shape[0], 1))\n",
    "    # return one-hot encoded predictions\n",
    "    return enc.transform(labels).toarray()"
   ]
  },
  {
   "cell_type": "code",
   "execution_count": 20,
   "metadata": {},
   "outputs": [],
   "source": [
    "# make predictions with K-nearest neighbours classification\n",
    "y_predClassifier = knn_classifier(features_test_numpy, features_train_numpy, target_train_onehot)"
   ]
  },
  {
   "cell_type": "code",
   "execution_count": 21,
   "metadata": {},
   "outputs": [
    {
     "data": {
      "text/plain": [
       "array([[0., 0., 1., 0., 0., 0.],\n",
       "       [0., 0., 1., 0., 0., 0.],\n",
       "       [0., 0., 1., 0., 0., 0.],\n",
       "       [0., 0., 1., 0., 0., 0.],\n",
       "       [0., 0., 0., 1., 0., 0.]])"
      ]
     },
     "execution_count": 21,
     "metadata": {},
     "output_type": "execute_result"
    }
   ],
   "source": [
    "# sample results\n",
    "y_predClassifier[:5]"
   ]
  },
  {
   "cell_type": "markdown",
   "metadata": {},
   "source": [
    "# Task 5.\n",
    "### Compare the models\n",
    "- Make a baseline model: this can be the mean value of the training labels for every sample.\n",
    "- Compare the regression and classification models to the baseline: You can do this by rounding the continous predictions of the regression to the nearest integer. Calculate the accuracy (fraction of correctly classified samples) of the models.\n",
    "- Check your KNN implementations by running the sklearn built-in model. \n",
    "You can run it for any model you implented. The predictions should be the same as yours. Some help:\n",
    "  ```python\n",
    "  from sklearn.neighbors import KNeighborsRegressor, KNeighborsClassifier\n",
    "  knn = KNeighborsRegressor(20, weights = \"distance\")\n",
    "  #knn = KNeighborsClassifier(20, weights = \"uniform\")\n",
    "  knn.fit(X_train, y_train)\n",
    "  knn.predict(X_test)\n",
    "  ```\n",
    "- Write down your observations."
   ]
  },
  {
   "cell_type": "code",
   "execution_count": 18,
   "metadata": {},
   "outputs": [],
   "source": [
    "# sklarn K-nearest neighbour\n",
    "from sklearn.neighbors import KNeighborsRegressor, KNeighborsClassifier"
   ]
  },
  {
   "cell_type": "code",
   "execution_count": 20,
   "metadata": {},
   "outputs": [
    {
     "data": {
      "text/plain": [
       "6.0"
      ]
     },
     "execution_count": 20,
     "metadata": {},
     "output_type": "execute_result"
    }
   ],
   "source": [
    "y_predBaseline"
   ]
  },
  {
   "cell_type": "code",
   "execution_count": 19,
   "metadata": {},
   "outputs": [
    {
     "name": "stdout",
     "output_type": "stream",
     "text": [
      "41.25 % of predictions are correct with baseline.\n"
     ]
    }
   ],
   "source": [
    "# baseline\n",
    "y_predBaseline = np.round(target_train_numpy.mean(axis = 0))\n",
    "print(np.round((y_predBaseline == target_test_numpy).tolist().count(True) / target_test_numpy.shape[0] * 100, 2), '% of predictions are correct with baseline.')"
   ]
  },
  {
   "cell_type": "code",
   "execution_count": 24,
   "metadata": {},
   "outputs": [
    {
     "name": "stdout",
     "output_type": "stream",
     "text": [
      "55.94 % of predictions are correct with baseline.\n"
     ]
    }
   ],
   "source": [
    "# sklearn uniform regression\n",
    "knn_r_uniform = KNeighborsRegressor(20, weights = 'uniform')\n",
    "knn_r_uniform.fit(features_train_numpy, target_train_numpy)\n",
    "print(np.round((np.round(knn_r_uniform.predict(features_test_numpy), 0) == target_test_numpy).tolist().count(True) / target_test_numpy.shape[0] * 100, 2), '% of predictions are correct with baseline.')"
   ]
  },
  {
   "cell_type": "code",
   "execution_count": 22,
   "metadata": {},
   "outputs": [
    {
     "name": "stdout",
     "output_type": "stream",
     "text": [
      "58.75 % of predictions are correct with baseline.\n"
     ]
    }
   ],
   "source": [
    "# sklearn weighted regression\n",
    "knn_r_weighted = KNeighborsRegressor(20, weights = 'distance')\n",
    "knn_r_weighted.fit(features_train_numpy, target_train_numpy)\n",
    "print(np.round((np.round(knn_r_weighted.predict(features_test_numpy), 0) == target_test_numpy).tolist().count(True) / target_test_numpy.shape[0] * 100, 2), '% of predictions are correct with baseline.')"
   ]
  },
  {
   "cell_type": "code",
   "execution_count": 24,
   "metadata": {},
   "outputs": [
    {
     "name": "stdout",
     "output_type": "stream",
     "text": [
      "54.37 % of predictions are correct with baseline.\n"
     ]
    }
   ],
   "source": [
    "# sklearn classification\n",
    "knn_c = KNeighborsClassifier(20, weights = 'uniform')\n",
    "knn_c.fit(features_train_numpy, target_train_numpy)\n",
    "print(np.round((np.round(knn_c.predict(features_test_numpy), 0) == target_test_numpy).tolist().count(True) / target_test_numpy.shape[0] * 100, 2), '% of predictions are correct with baseline.')"
   ]
  },
  {
   "cell_type": "code",
   "execution_count": 27,
   "metadata": {},
   "outputs": [
    {
     "name": "stdout",
     "output_type": "stream",
     "text": [
      "55.94 % of predictions are correct with nainve regression.\n"
     ]
    }
   ],
   "source": [
    "# naive regression (rounded)\n",
    "y_predNaiveRounded = np.round(y_predNaive, 0)\n",
    "print(np.round((y_predNaiveRounded == target_test_numpy).tolist().count(True) / target_test_numpy.shape[0] * 100, 2), '% of predictions are correct with nainve regression.')"
   ]
  },
  {
   "cell_type": "code",
   "execution_count": 28,
   "metadata": {},
   "outputs": [
    {
     "name": "stdout",
     "output_type": "stream",
     "text": [
      "58.75 % of predictions are correct with nainve regression.\n"
     ]
    }
   ],
   "source": [
    "# weighted regression (rounded)\n",
    "y_predWeightedRounded = np.round(y_predWeighted, 0)\n",
    "print(np.round((y_predWeightedRounded == target_test_numpy).tolist().count(True) / target_test_numpy.shape[0] * 100, 2), '% of predictions are correct with nainve regression.')"
   ]
  },
  {
   "cell_type": "code",
   "execution_count": 29,
   "metadata": {},
   "outputs": [
    {
     "name": "stdout",
     "output_type": "stream",
     "text": [
      "54.37 % of predictions are correct with nainve regression.\n"
     ]
    }
   ],
   "source": [
    "# classifier\n",
    "y_predClassifier_label = enc.inverse_transform(y_predClassifier).T[0]\n",
    "print(np.round((y_predClassifier_label == target_test_numpy).tolist().count(True) / target_test_numpy.shape[0] * 100, 2), '% of predictions are correct with nainve regression.')"
   ]
  },
  {
   "cell_type": "markdown",
   "metadata": {},
   "source": [
    "## Comments\n",
    "I managed to got the same results with my implementations and that of sklearn.\n",
    "\n",
    "Generally, the weighted regression gives the best results, the uniform regression and the classification is of the same level of accuracy and the baseline predictions are the worst of the tried methods (luckily)."
   ]
  },
  {
   "cell_type": "code",
   "execution_count": 25,
   "metadata": {},
   "outputs": [
    {
     "data": {
      "text/plain": [
       "320"
      ]
     },
     "execution_count": 25,
     "metadata": {},
     "output_type": "execute_result"
    }
   ],
   "source": []
  },
  {
   "cell_type": "code",
   "execution_count": null,
   "metadata": {},
   "outputs": [],
   "source": []
  }
 ],
 "metadata": {
  "colab": {
   "collapsed_sections": [],
   "include_colab_link": true,
   "name": "lab03.ipynb",
   "provenance": []
  },
  "kernelspec": {
   "display_name": "Python 3",
   "language": "python",
   "name": "python3"
  },
  "language_info": {
   "codemirror_mode": {
    "name": "ipython",
    "version": 3
   },
   "file_extension": ".py",
   "mimetype": "text/x-python",
   "name": "python",
   "nbconvert_exporter": "python",
   "pygments_lexer": "ipython3",
   "version": "3.8.8"
  }
 },
 "nbformat": 4,
 "nbformat_minor": 4
}
